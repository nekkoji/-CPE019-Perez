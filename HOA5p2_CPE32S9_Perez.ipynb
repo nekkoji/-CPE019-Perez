{
  "nbformat": 4,
  "nbformat_minor": 0,
  "metadata": {
    "colab": {
      "provenance": []
    },
    "kernelspec": {
      "name": "python3",
      "display_name": "Python 3"
    },
    "language_info": {
      "name": "python"
    }
  },
  "cells": [
    {
      "cell_type": "markdown",
      "source": [
        "Name: Perez, Cris John<br>\n",
        "Course and Section: CPE 019 - CPE32S9<br>\n",
        "Date of Submission: March 20, 2024<br>\n",
        "Instructor: Engr. Roman Richard<br>\n",
        "\n",
        "###**Hands-on Activity 5.2: Build and Apply Multilayer Perceptron**\n",
        "\n",
        "Objective: <br>\n",
        "Build a multilayer perceptron model with the following requirements:\n",
        "\n",
        "\n",
        "*   Choose any dataset\n",
        "*   Explain the problem that being solved\n",
        "*   Create the model\n",
        "*   Evaluate the accuracy of the model\n",
        "\n"
      ],
      "metadata": {
        "id": "v2zg8NnxcVy_"
      }
    },
    {
      "cell_type": "markdown",
      "source": [
        "Preparing the dataset"
      ],
      "metadata": {
        "id": "wW9oh3gPiKgt"
      }
    },
    {
      "cell_type": "code",
      "source": [
        "import pandas as pd\n",
        "import numpy as np\n",
        "import matplotlib.pyplot as plt\n",
        "%matplotlib inline"
      ],
      "metadata": {
        "id": "ql5e1BdZiIKa"
      },
      "execution_count": 29,
      "outputs": []
    },
    {
      "cell_type": "markdown",
      "source": [
        "Import the dataset from uci machine learning repository\n",
        "\n"
      ],
      "metadata": {
        "id": "si_mLRMDgKL-"
      }
    },
    {
      "cell_type": "code",
      "execution_count": 30,
      "metadata": {
        "colab": {
          "base_uri": "https://localhost:8080/"
        },
        "id": "My51_v4OcK6k",
        "outputId": "0feeb03c-d2de-45e6-871c-b4bd3987b4f5"
      },
      "outputs": [
        {
          "output_type": "stream",
          "name": "stdout",
          "text": [
            "Requirement already satisfied: ucimlrepo in /usr/local/lib/python3.10/dist-packages (0.0.3)\n"
          ]
        }
      ],
      "source": [
        "!pip install ucimlrepo"
      ]
    },
    {
      "cell_type": "code",
      "source": [
        "from ucimlrepo import fetch_ucirepo\n",
        "\n",
        "# fetch dataset\n",
        "rice_cammeo_and_osmancik = fetch_ucirepo(id=545)\n",
        "\n",
        "# data (as pandas dataframes)\n",
        "X = rice_cammeo_and_osmancik.data.features\n",
        "y = rice_cammeo_and_osmancik.data.targets\n",
        "\n",
        "# metadata\n",
        "print(rice_cammeo_and_osmancik.metadata)\n",
        "\n",
        "# variable information\n",
        "print(rice_cammeo_and_osmancik.variables)"
      ],
      "metadata": {
        "colab": {
          "base_uri": "https://localhost:8080/"
        },
        "id": "vdfctUgWgHuG",
        "outputId": "0698b73c-2e31-4853-e329-b9e66cf42d40"
      },
      "execution_count": 31,
      "outputs": [
        {
          "output_type": "stream",
          "name": "stdout",
          "text": [
            "{'uci_id': 545, 'name': 'Rice (Cammeo and Osmancik)', 'repository_url': 'https://archive.ics.uci.edu/dataset/545/rice+cammeo+and+osmancik', 'data_url': 'https://archive.ics.uci.edu/static/public/545/data.csv', 'abstract': \"A total of 3810 rice grain's images were taken for the two species, processed and feature inferences were made. 7 morphological features were obtained for each grain of rice.\", 'area': 'Biology', 'tasks': ['Classification'], 'characteristics': ['Multivariate'], 'num_instances': 3810, 'num_features': 7, 'feature_types': ['Real'], 'demographics': [], 'target_col': ['Class'], 'index_col': None, 'has_missing_values': 'no', 'missing_values_symbol': None, 'year_of_dataset_creation': 2019, 'last_updated': 'Fri Nov 03 2023', 'dataset_doi': '10.24432/C5MW4Z', 'creators': [], 'intro_paper': {'title': 'Classification of Rice Varieties Using Artificial Intelligence Methods', 'authors': 'Ilkay Cinar, M. Koklu', 'published_in': 'International Journal of Intelligent Systems and Applications in Engineering', 'year': 2019, 'url': 'https://www.semanticscholar.org/paper/4e508bb906c8fdc04ead6f20bd8918fcb3605d1c', 'doi': '10.18201/ijisae.2019355381'}, 'additional_info': {'summary': \"Among  the certified rice grown in TURKEY,  the  Osmancik species, which has a large planting area since 1997 and the Cammeo species grown since 2014 have been selected for the study.  When  looking  at  the  general  characteristics  of  Osmancik species, they have a wide, long, glassy and dull appearance.  When looking at the general characteristics of the Cammeo species, they have wide and long, glassy and dull in appearance.  A total of 3810 rice grain's images were taken for the two species, processed and feature inferences were made. 7 morphological features were obtained for each grain of rice. \", 'purpose': None, 'funded_by': None, 'instances_represent': None, 'recommended_data_splits': None, 'sensitive_data': None, 'preprocessing_description': None, 'variable_info': '1.) Area: Returns  the  number  of  pixels  within  the boundaries of the rice grain.\\r\\n2.) Perimeter: Calculates the circumference by calculating  the  distance  between  pixels around the boundaries of the rice grain.\\r\\n3.) Major Axis Length: The longest line that can be drawn on the rice  grain,  i.e.  the  main  axis  distance, gives.\\r\\n4.) Minor Axis Length: The shortest line that can be drawn on the rice  grain,  i.e.  the  small  axis  distance, gives.\\r\\n5.) Eccentricity: It measures how round the ellipse, which has  the  same  moments  as  the  rice  grain, is.\\r\\n6.) Convex Area: Returns  the  pixel  count  of  the  smallest convex shell of the region formed by the rice grain.\\r\\n7.) Extent: Returns the ratio of the regionformed by the rice grain to the bounding box pixels.\\r\\n8.) Class: Cammeo and Osmancik rices', 'citation': None}}\n",
            "                name     role        type demographic  \\\n",
            "0               Area  Feature     Integer        None   \n",
            "1          Perimeter  Feature  Continuous        None   \n",
            "2  Major_Axis_Length  Feature  Continuous        None   \n",
            "3  Minor_Axis_Length  Feature  Continuous        None   \n",
            "4       Eccentricity  Feature  Continuous        None   \n",
            "5        Convex_Area  Feature     Integer        None   \n",
            "6             Extent  Feature  Continuous        None   \n",
            "7              Class   Target      Binary        None   \n",
            "\n",
            "                                         description units missing_values  \n",
            "0  Returns the number of pixels within the bounda...    px             no  \n",
            "1  Calculates the circumference by calculating th...    px             no  \n",
            "2  The longest line that can be drawn on the rice...  None             no  \n",
            "3  The shortest line that can be drawn on the ric...  None             no  \n",
            "4  It measures how round the ellipse, which has t...  None             no  \n",
            "5  Returns the pixel count of the smallest convex...  None             no  \n",
            "6  Returns the ratio of the region formed by the ...  None             no  \n",
            "7                                Cammeo and Osmancik  None             no  \n"
          ]
        }
      ]
    },
    {
      "cell_type": "code",
      "source": [
        "#Encoding categorical labels into numerical values\n",
        "from sklearn.preprocessing import LabelEncoder\n",
        "label_encoder = LabelEncoder()\n",
        "y = label_encoder.fit_transform(y)"
      ],
      "metadata": {
        "colab": {
          "base_uri": "https://localhost:8080/"
        },
        "id": "R4Dmt9kQpzk1",
        "outputId": "65c6f4ec-aa67-48b1-9a8e-371db55ca289"
      },
      "execution_count": 47,
      "outputs": [
        {
          "output_type": "stream",
          "name": "stderr",
          "text": [
            "/usr/local/lib/python3.10/dist-packages/sklearn/preprocessing/_label.py:116: DataConversionWarning: A column-vector y was passed when a 1d array was expected. Please change the shape of y to (n_samples, ), for example using ravel().\n",
            "  y = column_or_1d(y, warn=True)\n"
          ]
        }
      ]
    },
    {
      "cell_type": "code",
      "source": [
        "y"
      ],
      "metadata": {
        "colab": {
          "base_uri": "https://localhost:8080/"
        },
        "id": "Word09x5qPzc",
        "outputId": "34c5a941-49eb-4906-b02b-890ab44a0cb7"
      },
      "execution_count": 48,
      "outputs": [
        {
          "output_type": "execute_result",
          "data": {
            "text/plain": [
              "array([0, 0, 0, ..., 1, 1, 1])"
            ]
          },
          "metadata": {},
          "execution_count": 48
        }
      ]
    },
    {
      "cell_type": "code",
      "source": [
        "#Standardizing features\n",
        "from sklearn.preprocessing import StandardScaler\n",
        "scaler = StandardScaler()\n",
        "X = scaler.fit_transform(X)"
      ],
      "metadata": {
        "id": "nkaiCGAlpGwG"
      },
      "execution_count": 44,
      "outputs": []
    },
    {
      "cell_type": "code",
      "source": [
        "X"
      ],
      "metadata": {
        "colab": {
          "base_uri": "https://localhost:8080/"
        },
        "id": "C-eYVrY3ptmM",
        "outputId": "f7e38632-e6ca-4d53-8c4e-ce34a003b755"
      },
      "execution_count": 45,
      "outputs": [
        {
          "output_type": "execute_result",
          "data": {
            "text/plain": [
              "array([[ 1.47982953,  2.0043543 ,  2.34854657, ...,  2.01833746,\n",
              "         1.49965944, -1.15292093],\n",
              "       [ 1.14787029,  1.12585309,  0.98839042, ...,  0.41001813,\n",
              "         1.19291767, -0.60207876],\n",
              "       [ 1.13516924,  1.31721425,  1.45190846, ...,  1.21295648,\n",
              "         1.12650386,  0.405611  ],\n",
              "       ...,\n",
              "       [-0.13320373, -0.32985087, -0.29824512, ..., -0.27509915,\n",
              "        -0.17306812, -0.45573108],\n",
              "       [-1.60825742, -1.74032002, -1.58097116, ..., -0.59882135,\n",
              "        -1.60715621, -0.03716757],\n",
              "       [-0.71225612, -1.39156604, -1.58754648, ..., -2.93916012,\n",
              "        -0.76628981,  1.82594693]])"
            ]
          },
          "metadata": {},
          "execution_count": 45
        }
      ]
    },
    {
      "cell_type": "markdown",
      "source": [
        "The dataset that I used was the rice dataset (cammeo and osmancik) wherein there are a total of 3810 sammples of ruce grain's images that would classify them if they are cammeo or osmancik."
      ],
      "metadata": {
        "id": "XU_BMJrXg-Nt"
      }
    },
    {
      "cell_type": "markdown",
      "source": [
        "The problem that I am trying to solve is to classify rice grains into one of the two types based on their dimensions or measurements.\n",
        "\n"
      ],
      "metadata": {
        "id": "Uwzl35lxhSTe"
      }
    },
    {
      "cell_type": "markdown",
      "source": [
        "Creation of the model"
      ],
      "metadata": {
        "id": "V_ChHWwLmxik"
      }
    },
    {
      "cell_type": "code",
      "source": [
        "#Split the dataset into training and testing sets\n",
        "from sklearn.model_selection import train_test_split\n",
        "\n",
        "X_train, X_test, y_train, y_test = train_test_split(X, y, test_size = 0.33, random_state = 42)"
      ],
      "metadata": {
        "id": "WrFsLibXqfcc"
      },
      "execution_count": 49,
      "outputs": []
    },
    {
      "cell_type": "code",
      "source": [
        "print(\"Feature matrix:\", X_train.shape)\n",
        "print(\"Target matrix:\", X_test.shape)\n",
        "print(\"Feature matrix:\", y_train.shape)\n",
        "print(\"Target matrix:\", y_test.shape)"
      ],
      "metadata": {
        "colab": {
          "base_uri": "https://localhost:8080/"
        },
        "id": "t87zkPV2sVLm",
        "outputId": "727ac08c-c11f-4e97-c69a-8edf8c05b63a"
      },
      "execution_count": 53,
      "outputs": [
        {
          "output_type": "stream",
          "name": "stdout",
          "text": [
            "Feature matrix: (2552, 7)\n",
            "Target matrix: (1258, 7)\n",
            "Feature matrix: (2552,)\n",
            "Target matrix: (1258,)\n"
          ]
        }
      ]
    },
    {
      "cell_type": "code",
      "source": [
        "from tensorflow.keras.models import Sequential\n",
        "from tensorflow.keras.layers import Dense\n",
        "\n",
        "model = Sequential()\n",
        "model.add(Dense(10, input_dim = X.shape[1], activation = 'relu'))\n",
        "model.add(Dense(8, activation='relu'))\n",
        "model.add(Dense(len(np.unique(y)),activation = 'softmax'))"
      ],
      "metadata": {
        "id": "AGHfPFLSmvH9"
      },
      "execution_count": 50,
      "outputs": []
    },
    {
      "cell_type": "code",
      "source": [
        "model.summary()"
      ],
      "metadata": {
        "colab": {
          "base_uri": "https://localhost:8080/"
        },
        "id": "zXt3Ak57tunU",
        "outputId": "be2c51e2-d82c-45d5-ec0b-b9a6de8e5480"
      },
      "execution_count": 65,
      "outputs": [
        {
          "output_type": "stream",
          "name": "stdout",
          "text": [
            "Model: \"sequential\"\n",
            "_________________________________________________________________\n",
            " Layer (type)                Output Shape              Param #   \n",
            "=================================================================\n",
            " dense (Dense)               (None, 10)                80        \n",
            "                                                                 \n",
            " dense_1 (Dense)             (None, 8)                 88        \n",
            "                                                                 \n",
            " dense_2 (Dense)             (None, 2)                 18        \n",
            "                                                                 \n",
            "=================================================================\n",
            "Total params: 186 (744.00 Byte)\n",
            "Trainable params: 186 (744.00 Byte)\n",
            "Non-trainable params: 0 (0.00 Byte)\n",
            "_________________________________________________________________\n"
          ]
        }
      ]
    },
    {
      "cell_type": "code",
      "source": [
        "#Compile the model\n",
        "model.compile(loss='sparse_categorical_crossentropy',optimizer='adam',metrics=['accuracy'])"
      ],
      "metadata": {
        "id": "lcwpscomr9tM"
      },
      "execution_count": 51,
      "outputs": []
    },
    {
      "cell_type": "code",
      "source": [
        "#Fit the model\n",
        "model.fit(X_train, y_train, epochs=10, batch_size=3810, validation_split=0.2)"
      ],
      "metadata": {
        "colab": {
          "base_uri": "https://localhost:8080/"
        },
        "id": "MpYlO-JNsLaT",
        "outputId": "77443c1e-adb1-49c7-9283-10d31f780367"
      },
      "execution_count": 70,
      "outputs": [
        {
          "output_type": "stream",
          "name": "stdout",
          "text": [
            "Epoch 1/10\n",
            "1/1 [==============================] - 0s 91ms/step - loss: 0.2073 - accuracy: 0.9201 - val_loss: 0.2008 - val_accuracy: 0.9217\n",
            "Epoch 2/10\n",
            "1/1 [==============================] - 0s 40ms/step - loss: 0.2071 - accuracy: 0.9206 - val_loss: 0.2006 - val_accuracy: 0.9217\n",
            "Epoch 3/10\n",
            "1/1 [==============================] - 0s 37ms/step - loss: 0.2069 - accuracy: 0.9201 - val_loss: 0.2003 - val_accuracy: 0.9217\n",
            "Epoch 4/10\n",
            "1/1 [==============================] - 0s 56ms/step - loss: 0.2067 - accuracy: 0.9206 - val_loss: 0.2000 - val_accuracy: 0.9217\n",
            "Epoch 5/10\n",
            "1/1 [==============================] - 0s 42ms/step - loss: 0.2065 - accuracy: 0.9206 - val_loss: 0.1998 - val_accuracy: 0.9217\n",
            "Epoch 6/10\n",
            "1/1 [==============================] - 0s 55ms/step - loss: 0.2062 - accuracy: 0.9206 - val_loss: 0.1995 - val_accuracy: 0.9217\n",
            "Epoch 7/10\n",
            "1/1 [==============================] - 0s 56ms/step - loss: 0.2060 - accuracy: 0.9206 - val_loss: 0.1992 - val_accuracy: 0.9217\n",
            "Epoch 8/10\n",
            "1/1 [==============================] - 0s 57ms/step - loss: 0.2058 - accuracy: 0.9206 - val_loss: 0.1990 - val_accuracy: 0.9217\n",
            "Epoch 9/10\n",
            "1/1 [==============================] - 0s 49ms/step - loss: 0.2056 - accuracy: 0.9206 - val_loss: 0.1987 - val_accuracy: 0.9217\n",
            "Epoch 10/10\n",
            "1/1 [==============================] - 0s 39ms/step - loss: 0.2054 - accuracy: 0.9206 - val_loss: 0.1985 - val_accuracy: 0.9217\n"
          ]
        },
        {
          "output_type": "execute_result",
          "data": {
            "text/plain": [
              "<keras.src.callbacks.History at 0x79c15e791930>"
            ]
          },
          "metadata": {},
          "execution_count": 70
        }
      ]
    },
    {
      "cell_type": "markdown",
      "source": [
        "Evaluation of the accuracy of the model"
      ],
      "metadata": {
        "id": "DJt2HRd8vPOs"
      }
    },
    {
      "cell_type": "code",
      "source": [
        "results = model.evaluate(X_test, y_test, verbose = 1)\n",
        "print('test loss, test acc:',results)"
      ],
      "metadata": {
        "colab": {
          "base_uri": "https://localhost:8080/"
        },
        "id": "qM8CrGXEvNHM",
        "outputId": "738b3bab-e3e1-47a3-f179-a29216804e29"
      },
      "execution_count": 71,
      "outputs": [
        {
          "output_type": "stream",
          "name": "stdout",
          "text": [
            "40/40 [==============================] - 0s 2ms/step - loss: 0.1928 - accuracy: 0.9316\n",
            "test loss, test acc: [0.19281327724456787, 0.9316375255584717]\n"
          ]
        }
      ]
    },
    {
      "cell_type": "markdown",
      "source": [
        "By using the ```model.evaluate()``` on the test samples, the accuracy of the model was 93%.\n",
        "\n",
        "\n"
      ],
      "metadata": {
        "id": "DTax3m-WviTl"
      }
    },
    {
      "cell_type": "markdown",
      "source": [
        "Dataset used: Rice (Cammeo and Osmancik). (2019). UCI Machine Learning Repository. https://doi.org/10.24432/C5MW4Z."
      ],
      "metadata": {
        "id": "hHMr_wRvwDwL"
      }
    }
  ]
}